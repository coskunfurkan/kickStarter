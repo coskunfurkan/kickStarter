{
 "cells": [
  {
   "cell_type": "code",
   "execution_count": 1,
   "metadata": {
    "collapsed": true
   },
   "outputs": [],
   "source": [
    "import numpy as np\n",
    "import pandas as pd\n",
    "import matplotlib.pyplot as plt\n",
    "import seaborn as sns\n",
    "import scipy.stats as stats\n",
    "#import cufflinks as cf\n",
    "#import plotly.graph_objs as go \n",
    "#from plotly.offline import init_notebook_mode,plot,iplot\n",
    "#cf.go_offline()\n",
    "#init_notebook_mode(connected=True)\n",
    "%matplotlib inline"
   ]
  },
  {
   "cell_type": "code",
   "execution_count": 2,
   "metadata": {},
   "outputs": [
    {
     "data": {
      "text/html": [
       "<div>\n",
       "<style>\n",
       "    .dataframe thead tr:only-child th {\n",
       "        text-align: right;\n",
       "    }\n",
       "\n",
       "    .dataframe thead th {\n",
       "        text-align: left;\n",
       "    }\n",
       "\n",
       "    .dataframe tbody tr th {\n",
       "        vertical-align: top;\n",
       "    }\n",
       "</style>\n",
       "<table border=\"1\" class=\"dataframe\">\n",
       "  <thead>\n",
       "    <tr style=\"text-align: right;\">\n",
       "      <th></th>\n",
       "      <th>ID</th>\n",
       "      <th>name</th>\n",
       "      <th>category</th>\n",
       "      <th>main_category</th>\n",
       "      <th>currency</th>\n",
       "      <th>deadline</th>\n",
       "      <th>goal</th>\n",
       "      <th>launched</th>\n",
       "      <th>pledged</th>\n",
       "      <th>state</th>\n",
       "      <th>backers</th>\n",
       "      <th>country</th>\n",
       "      <th>usd pledged</th>\n",
       "      <th>usd_pledged_real</th>\n",
       "      <th>usd_goal_real</th>\n",
       "    </tr>\n",
       "  </thead>\n",
       "  <tbody>\n",
       "    <tr>\n",
       "      <th>0</th>\n",
       "      <td>1000002330</td>\n",
       "      <td>The Songs of Adelaide &amp; Abullah</td>\n",
       "      <td>Poetry</td>\n",
       "      <td>Publishing</td>\n",
       "      <td>GBP</td>\n",
       "      <td>2015-10-09</td>\n",
       "      <td>1000.0</td>\n",
       "      <td>2015-08-11 12:12:28</td>\n",
       "      <td>0.0</td>\n",
       "      <td>failed</td>\n",
       "      <td>0</td>\n",
       "      <td>GB</td>\n",
       "      <td>0.0</td>\n",
       "      <td>0.0</td>\n",
       "      <td>1533.95</td>\n",
       "    </tr>\n",
       "    <tr>\n",
       "      <th>1</th>\n",
       "      <td>1000003930</td>\n",
       "      <td>Greeting From Earth: ZGAC Arts Capsule For ET</td>\n",
       "      <td>Narrative Film</td>\n",
       "      <td>Film &amp; Video</td>\n",
       "      <td>USD</td>\n",
       "      <td>2017-11-01</td>\n",
       "      <td>30000.0</td>\n",
       "      <td>2017-09-02 04:43:57</td>\n",
       "      <td>2421.0</td>\n",
       "      <td>failed</td>\n",
       "      <td>15</td>\n",
       "      <td>US</td>\n",
       "      <td>100.0</td>\n",
       "      <td>2421.0</td>\n",
       "      <td>30000.00</td>\n",
       "    </tr>\n",
       "    <tr>\n",
       "      <th>2</th>\n",
       "      <td>1000004038</td>\n",
       "      <td>Where is Hank?</td>\n",
       "      <td>Narrative Film</td>\n",
       "      <td>Film &amp; Video</td>\n",
       "      <td>USD</td>\n",
       "      <td>2013-02-26</td>\n",
       "      <td>45000.0</td>\n",
       "      <td>2013-01-12 00:20:50</td>\n",
       "      <td>220.0</td>\n",
       "      <td>failed</td>\n",
       "      <td>3</td>\n",
       "      <td>US</td>\n",
       "      <td>220.0</td>\n",
       "      <td>220.0</td>\n",
       "      <td>45000.00</td>\n",
       "    </tr>\n",
       "    <tr>\n",
       "      <th>3</th>\n",
       "      <td>1000007540</td>\n",
       "      <td>ToshiCapital Rekordz Needs Help to Complete Album</td>\n",
       "      <td>Music</td>\n",
       "      <td>Music</td>\n",
       "      <td>USD</td>\n",
       "      <td>2012-04-16</td>\n",
       "      <td>5000.0</td>\n",
       "      <td>2012-03-17 03:24:11</td>\n",
       "      <td>1.0</td>\n",
       "      <td>failed</td>\n",
       "      <td>1</td>\n",
       "      <td>US</td>\n",
       "      <td>1.0</td>\n",
       "      <td>1.0</td>\n",
       "      <td>5000.00</td>\n",
       "    </tr>\n",
       "    <tr>\n",
       "      <th>4</th>\n",
       "      <td>1000011046</td>\n",
       "      <td>Community Film Project: The Art of Neighborhoo...</td>\n",
       "      <td>Film &amp; Video</td>\n",
       "      <td>Film &amp; Video</td>\n",
       "      <td>USD</td>\n",
       "      <td>2015-08-29</td>\n",
       "      <td>19500.0</td>\n",
       "      <td>2015-07-04 08:35:03</td>\n",
       "      <td>1283.0</td>\n",
       "      <td>canceled</td>\n",
       "      <td>14</td>\n",
       "      <td>US</td>\n",
       "      <td>1283.0</td>\n",
       "      <td>1283.0</td>\n",
       "      <td>19500.00</td>\n",
       "    </tr>\n",
       "  </tbody>\n",
       "</table>\n",
       "</div>"
      ],
      "text/plain": [
       "           ID                                               name  \\\n",
       "0  1000002330                    The Songs of Adelaide & Abullah   \n",
       "1  1000003930      Greeting From Earth: ZGAC Arts Capsule For ET   \n",
       "2  1000004038                                     Where is Hank?   \n",
       "3  1000007540  ToshiCapital Rekordz Needs Help to Complete Album   \n",
       "4  1000011046  Community Film Project: The Art of Neighborhoo...   \n",
       "\n",
       "         category main_category currency    deadline     goal  \\\n",
       "0          Poetry    Publishing      GBP  2015-10-09   1000.0   \n",
       "1  Narrative Film  Film & Video      USD  2017-11-01  30000.0   \n",
       "2  Narrative Film  Film & Video      USD  2013-02-26  45000.0   \n",
       "3           Music         Music      USD  2012-04-16   5000.0   \n",
       "4    Film & Video  Film & Video      USD  2015-08-29  19500.0   \n",
       "\n",
       "              launched  pledged     state  backers country  usd pledged  \\\n",
       "0  2015-08-11 12:12:28      0.0    failed        0      GB          0.0   \n",
       "1  2017-09-02 04:43:57   2421.0    failed       15      US        100.0   \n",
       "2  2013-01-12 00:20:50    220.0    failed        3      US        220.0   \n",
       "3  2012-03-17 03:24:11      1.0    failed        1      US          1.0   \n",
       "4  2015-07-04 08:35:03   1283.0  canceled       14      US       1283.0   \n",
       "\n",
       "   usd_pledged_real  usd_goal_real  \n",
       "0               0.0        1533.95  \n",
       "1            2421.0       30000.00  \n",
       "2             220.0       45000.00  \n",
       "3               1.0        5000.00  \n",
       "4            1283.0       19500.00  "
      ]
     },
     "execution_count": 2,
     "metadata": {},
     "output_type": "execute_result"
    }
   ],
   "source": [
    "df=pd.read_csv('ks-projects-201801.csv')\n",
    "df.head()"
   ]
  },
  {
   "cell_type": "code",
   "execution_count": 3,
   "metadata": {},
   "outputs": [
    {
     "data": {
      "text/html": [
       "<div>\n",
       "<style>\n",
       "    .dataframe thead tr:only-child th {\n",
       "        text-align: right;\n",
       "    }\n",
       "\n",
       "    .dataframe thead th {\n",
       "        text-align: left;\n",
       "    }\n",
       "\n",
       "    .dataframe tbody tr th {\n",
       "        vertical-align: top;\n",
       "    }\n",
       "</style>\n",
       "<table border=\"1\" class=\"dataframe\">\n",
       "  <thead>\n",
       "    <tr style=\"text-align: right;\">\n",
       "      <th></th>\n",
       "      <th>main_category</th>\n",
       "      <th>usd_goal_real</th>\n",
       "      <th>country</th>\n",
       "      <th>backers</th>\n",
       "      <th>state</th>\n",
       "      <th>usd_pledged_real</th>\n",
       "    </tr>\n",
       "  </thead>\n",
       "  <tbody>\n",
       "    <tr>\n",
       "      <th>0</th>\n",
       "      <td>Publishing</td>\n",
       "      <td>1533.95</td>\n",
       "      <td>GB</td>\n",
       "      <td>0</td>\n",
       "      <td>failed</td>\n",
       "      <td>0.0</td>\n",
       "    </tr>\n",
       "    <tr>\n",
       "      <th>1</th>\n",
       "      <td>Film &amp; Video</td>\n",
       "      <td>30000.00</td>\n",
       "      <td>US</td>\n",
       "      <td>15</td>\n",
       "      <td>failed</td>\n",
       "      <td>2421.0</td>\n",
       "    </tr>\n",
       "    <tr>\n",
       "      <th>2</th>\n",
       "      <td>Film &amp; Video</td>\n",
       "      <td>45000.00</td>\n",
       "      <td>US</td>\n",
       "      <td>3</td>\n",
       "      <td>failed</td>\n",
       "      <td>220.0</td>\n",
       "    </tr>\n",
       "    <tr>\n",
       "      <th>3</th>\n",
       "      <td>Music</td>\n",
       "      <td>5000.00</td>\n",
       "      <td>US</td>\n",
       "      <td>1</td>\n",
       "      <td>failed</td>\n",
       "      <td>1.0</td>\n",
       "    </tr>\n",
       "    <tr>\n",
       "      <th>4</th>\n",
       "      <td>Film &amp; Video</td>\n",
       "      <td>19500.00</td>\n",
       "      <td>US</td>\n",
       "      <td>14</td>\n",
       "      <td>canceled</td>\n",
       "      <td>1283.0</td>\n",
       "    </tr>\n",
       "  </tbody>\n",
       "</table>\n",
       "</div>"
      ],
      "text/plain": [
       "  main_category  usd_goal_real country  backers     state  usd_pledged_real\n",
       "0    Publishing        1533.95      GB        0    failed               0.0\n",
       "1  Film & Video       30000.00      US       15    failed            2421.0\n",
       "2  Film & Video       45000.00      US        3    failed             220.0\n",
       "3         Music        5000.00      US        1    failed               1.0\n",
       "4  Film & Video       19500.00      US       14  canceled            1283.0"
      ]
     },
     "execution_count": 3,
     "metadata": {},
     "output_type": "execute_result"
    }
   ],
   "source": [
    "df = df[[\"main_category\",\"usd_goal_real\",\"country\",\"backers\",\"state\",\"usd_pledged_real\"]]\n",
    "df.head()"
   ]
  },
  {
   "cell_type": "code",
   "execution_count": 4,
   "metadata": {},
   "outputs": [
    {
     "data": {
      "text/html": [
       "<div>\n",
       "<style>\n",
       "    .dataframe thead tr:only-child th {\n",
       "        text-align: right;\n",
       "    }\n",
       "\n",
       "    .dataframe thead th {\n",
       "        text-align: left;\n",
       "    }\n",
       "\n",
       "    .dataframe tbody tr th {\n",
       "        vertical-align: top;\n",
       "    }\n",
       "</style>\n",
       "<table border=\"1\" class=\"dataframe\">\n",
       "  <thead>\n",
       "    <tr style=\"text-align: right;\">\n",
       "      <th></th>\n",
       "      <th>usd_goal_real</th>\n",
       "      <th>backers</th>\n",
       "      <th>usd_pledged_real</th>\n",
       "    </tr>\n",
       "  </thead>\n",
       "  <tbody>\n",
       "    <tr>\n",
       "      <th>count</th>\n",
       "      <td>3.786610e+05</td>\n",
       "      <td>378661.000000</td>\n",
       "      <td>3.786610e+05</td>\n",
       "    </tr>\n",
       "    <tr>\n",
       "      <th>mean</th>\n",
       "      <td>4.545440e+04</td>\n",
       "      <td>105.617476</td>\n",
       "      <td>9.058924e+03</td>\n",
       "    </tr>\n",
       "    <tr>\n",
       "      <th>std</th>\n",
       "      <td>1.152950e+06</td>\n",
       "      <td>907.185035</td>\n",
       "      <td>9.097334e+04</td>\n",
       "    </tr>\n",
       "    <tr>\n",
       "      <th>min</th>\n",
       "      <td>1.000000e-02</td>\n",
       "      <td>0.000000</td>\n",
       "      <td>0.000000e+00</td>\n",
       "    </tr>\n",
       "    <tr>\n",
       "      <th>25%</th>\n",
       "      <td>2.000000e+03</td>\n",
       "      <td>2.000000</td>\n",
       "      <td>3.100000e+01</td>\n",
       "    </tr>\n",
       "    <tr>\n",
       "      <th>50%</th>\n",
       "      <td>5.500000e+03</td>\n",
       "      <td>12.000000</td>\n",
       "      <td>6.243300e+02</td>\n",
       "    </tr>\n",
       "    <tr>\n",
       "      <th>75%</th>\n",
       "      <td>1.550000e+04</td>\n",
       "      <td>56.000000</td>\n",
       "      <td>4.050000e+03</td>\n",
       "    </tr>\n",
       "    <tr>\n",
       "      <th>max</th>\n",
       "      <td>1.663614e+08</td>\n",
       "      <td>219382.000000</td>\n",
       "      <td>2.033899e+07</td>\n",
       "    </tr>\n",
       "  </tbody>\n",
       "</table>\n",
       "</div>"
      ],
      "text/plain": [
       "       usd_goal_real        backers  usd_pledged_real\n",
       "count   3.786610e+05  378661.000000      3.786610e+05\n",
       "mean    4.545440e+04     105.617476      9.058924e+03\n",
       "std     1.152950e+06     907.185035      9.097334e+04\n",
       "min     1.000000e-02       0.000000      0.000000e+00\n",
       "25%     2.000000e+03       2.000000      3.100000e+01\n",
       "50%     5.500000e+03      12.000000      6.243300e+02\n",
       "75%     1.550000e+04      56.000000      4.050000e+03\n",
       "max     1.663614e+08  219382.000000      2.033899e+07"
      ]
     },
     "execution_count": 4,
     "metadata": {},
     "output_type": "execute_result"
    }
   ],
   "source": [
    "df.describe()"
   ]
  },
  {
   "cell_type": "code",
   "execution_count": 5,
   "metadata": {},
   "outputs": [
    {
     "data": {
      "text/plain": [
       "<matplotlib.text.Text at 0x106a2dd50>"
      ]
     },
     "execution_count": 5,
     "metadata": {},
     "output_type": "execute_result"
    },
    {
     "data": {
      "image/png": "[encoded data removed]",
      "text/plain": [
       "<matplotlib.figure.Figure at 0x103570550>"
      ]
     },
     "metadata": {},
     "output_type": "display_data"
    }
   ],
   "source": [
    "plt.figure(figsize=(10,7))\n",
    "sns.countplot(df['state'])\n",
    "plt.xlabel('State')\n",
    "plt.ylabel('Count')\n",
    "plt.title('Count plot of the state of kickstarter projects')"
   ]
  },
  {
   "cell_type": "code",
   "execution_count": 6,
   "metadata": {},
   "outputs": [
    {
     "data": {
      "text/plain": [
       "array(['failed', 'canceled', 'successful', 'live', 'undefined', 'suspended'], dtype=object)"
      ]
     },
     "execution_count": 6,
     "metadata": {},
     "output_type": "execute_result"
    }
   ],
   "source": [
    "df[\"state\"].unique()"
   ]
  },
  {
   "cell_type": "code",
   "execution_count": 7,
   "metadata": {},
   "outputs": [
    {
     "data": {
      "text/plain": [
       "array(['failed', 'canceled', 'successful'], dtype=object)"
      ]
     },
     "execution_count": 7,
     "metadata": {},
     "output_type": "execute_result"
    }
   ],
   "source": [
    "df = df[(df[\"state\"] != \"live\")&(df[\"state\"] != \"undefined\")&(df[\"state\"] != \"suspended\")]\n",
    "df[\"state\"].unique()"
   ]
  },
  {
   "cell_type": "code",
   "execution_count": 8,
   "metadata": {},
   "outputs": [
    {
     "name": "stdout",
     "output_type": "stream",
     "text": [
      "<class 'pandas.core.frame.DataFrame'>\n",
      "Int64Index: 370454 entries, 0 to 378660\n",
      "Data columns (total 6 columns):\n",
      "main_category       370454 non-null object\n",
      "usd_goal_real       370454 non-null float64\n",
      "country             370454 non-null object\n",
      "backers             370454 non-null int64\n",
      "state               370454 non-null object\n",
      "usd_pledged_real    370454 non-null float64\n",
      "dtypes: float64(2), int64(1), object(3)\n",
      "memory usage: 19.8+ MB\n"
     ]
    }
   ],
   "source": [
    "df[\"state\"] = np.where((df[\"state\"] == \"canceled\"),\"failed\",df[\"state\"])\n",
    "df.info()"
   ]
  },
  {
   "cell_type": "code",
   "execution_count": 9,
   "metadata": {
    "collapsed": true
   },
   "outputs": [],
   "source": [
    "dfsuccess = df[df['state']=='successful']\n",
    "dffail = df[df['state']=='failed']"
   ]
  },
  {
   "cell_type": "code",
   "execution_count": 10,
   "metadata": {},
   "outputs": [
    {
     "data": {
      "text/plain": [
       "<matplotlib.text.Text at 0x816a3c590>"
      ]
     },
     "execution_count": 10,
     "metadata": {},
     "output_type": "execute_result"
    },
    {
     "data": {
      "image/png": "[encoded data removed]",
      "text/plain": [
       "<matplotlib.figure.Figure at 0x80fa23d10>"
      ]
     },
     "metadata": {},
     "output_type": "display_data"
    },
    {
     "data": {
      "image/png": "[encoded data removed]",
      "text/plain": [
       "<matplotlib.figure.Figure at 0x80f8ebfd0>"
      ]
     },
     "metadata": {},
     "output_type": "display_data"
    }
   ],
   "source": [
    "plt.figure(figsize=(16,7))\n",
    "sns.countplot(dfsuccess['main_category'],order=df['main_category'].value_counts().index)\n",
    "plt.xlabel('Main Category')\n",
    "plt.ylabel('Count')\n",
    "plt.title('Count plot of the successful kickstarter projects')\n",
    "\n",
    "plt.figure(figsize=(16,7))\n",
    "sns.countplot(dffail['main_category'],order=df['main_category'].value_counts().index)\n",
    "plt.xlabel('Main Category')\n",
    "plt.ylabel('Count')\n",
    "plt.title('Count plot of the failed kickstarter projects')"
   ]
  },
  {
   "cell_type": "code",
   "execution_count": 11,
   "metadata": {},
   "outputs": [
    {
     "name": "stdout",
     "output_type": "stream",
     "text": [
      "state             failed  successful\n",
      "main_category                       \n",
      "Dance          37.419700   62.580300\n",
      "Theater        39.778802   60.221198\n",
      "Comics         45.503731   54.496269\n",
      "Music          50.873026   49.126974\n",
      "Art            58.690737   41.309263\n",
      "Film & Video   62.070903   37.929097\n",
      "Games          63.948968   36.051032\n",
      "Design         64.256674   35.743326\n",
      "Publishing     68.499501   31.500499\n",
      "Photography    69.039813   30.960187\n",
      "Food           74.922728   25.077272\n",
      "Fashion        75.059086   24.940914\n",
      "Crafts         75.580187   24.419813\n",
      "Journalism     78.339041   21.660959\n",
      "Technology     79.745002   20.254998\n"
     ]
    }
   ],
   "source": [
    "df1=df.groupby(('main_category','state')).size().unstack().fillna(0)\n",
    "df1=df1.divide(df1.iloc[:,:].sum(axis=1),axis=0)*100\n",
    "print(df1.sort_values(by='successful',ascending=False))"
   ]
  },
  {
   "cell_type": "code",
   "execution_count": 12,
   "metadata": {},
   "outputs": [
    {
     "data": {
      "text/plain": [
       "<matplotlib.axes._subplots.AxesSubplot at 0x8158379d0>"
      ]
     },
     "execution_count": 12,
     "metadata": {},
     "output_type": "execute_result"
    },
    {
     "data": {
      "image/png": "[encoded data removed]",
      "text/plain": [
       "<matplotlib.figure.Figure at 0x8157caa50>"
      ]
     },
     "metadata": {},
     "output_type": "display_data"
    }
   ],
   "source": [
    "df1.plot(kind=\"bar\",figsize=(16,7))"
   ]
  },
  {
   "cell_type": "code",
   "execution_count": 13,
   "metadata": {},
   "outputs": [
    {
     "data": {
      "text/plain": [
       "main_category\n",
       "Games           11304754\n",
       "Design           7130876\n",
       "Technology       5201257\n",
       "Film & Video     4190762\n",
       "Music            2700566\n",
       "Publishing       2217571\n",
       "Comics           1453945\n",
       "Fashion          1388135\n",
       "Food             1320109\n",
       "Art              1180804\n",
       "Theater           512364\n",
       "Photography       426071\n",
       "Crafts            239297\n",
       "Journalism        181103\n",
       "Dance             161012\n",
       "Name: backers, dtype: int64"
      ]
     },
     "execution_count": 13,
     "metadata": {},
     "output_type": "execute_result"
    }
   ],
   "source": [
    "df.groupby(('main_category'))['backers'].sum().sort_values(ascending=False)"
   ]
  },
  {
   "cell_type": "code",
   "execution_count": 14,
   "metadata": {},
   "outputs": [
    {
     "data": {
      "text/plain": [
       "<matplotlib.axes._subplots.AxesSubplot at 0x8170bd910>"
      ]
     },
     "execution_count": 14,
     "metadata": {},
     "output_type": "execute_result"
    },
    {
     "data": {
      "image/png": "[encoded data removed]",
      "text/plain": [
       "<matplotlib.figure.Figure at 0x8170f50d0>"
      ]
     },
     "metadata": {},
     "output_type": "display_data"
    }
   ],
   "source": [
    "pled = df.groupby('main_category')['usd_pledged_real'].sum().sort_values(ascending=False)\n",
    "pled.plot(kind=\"bar\",figsize=(16,7))"
   ]
  },
  {
   "cell_type": "code",
   "execution_count": 15,
   "metadata": {},
   "outputs": [
    {
     "data": {
      "text/plain": [
       "<matplotlib.axes._subplots.AxesSubplot at 0x80fa3fb10>"
      ]
     },
     "execution_count": 15,
     "metadata": {},
     "output_type": "execute_result"
    },
    {
     "data": {
      "image/png": "[encoded data removed]",
      "text/plain": [
       "<matplotlib.figure.Figure at 0x8170f5210>"
      ]
     },
     "metadata": {},
     "output_type": "display_data"
    }
   ],
   "source": [
    "dfcountry=df.groupby(('country','state')).size().unstack()\n",
    "dfcountry.plot(kind=\"bar\",figsize=(16,7))"
   ]
  },
  {
   "cell_type": "code",
   "execution_count": 16,
   "metadata": {},
   "outputs": [
    {
     "data": {
      "text/plain": [
       "<matplotlib.axes._subplots.AxesSubplot at 0x818ade650>"
      ]
     },
     "execution_count": 16,
     "metadata": {},
     "output_type": "execute_result"
    },
    {
     "data": {
      "image/png": "[encoded data removed]",
      "text/plain": [
       "<matplotlib.figure.Figure at 0x818e38a90>"
      ]
     },
     "metadata": {},
     "output_type": "display_data"
    }
   ],
   "source": [
    "dfcountry_exceptUS = dfcountry[dfcountry.index != \"US\"]\n",
    "dfcountry_exceptUS.plot(kind=\"bar\",figsize=(16,7))"
   ]
  },
  {
   "cell_type": "markdown",
   "metadata": {
    "collapsed": true
   },
   "source": [
    "# Test 1: Country and state"
   ]
  },
  {
   "cell_type": "markdown",
   "metadata": {},
   "source": [
    "#### Null Hypothesis: Success rate changes depend on the country\n",
    "#### Alternative Hypothesis: Success rate changes does not depend on the country"
   ]
  },
  {
   "cell_type": "code",
   "execution_count": 17,
   "metadata": {},
   "outputs": [
    {
     "data": {
      "text/html": [
       "<div>\n",
       "<style>\n",
       "    .dataframe thead tr:only-child th {\n",
       "        text-align: right;\n",
       "    }\n",
       "\n",
       "    .dataframe thead th {\n",
       "        text-align: left;\n",
       "    }\n",
       "\n",
       "    .dataframe tbody tr th {\n",
       "        vertical-align: top;\n",
       "    }\n",
       "</style>\n",
       "<table border=\"1\" class=\"dataframe\">\n",
       "  <thead>\n",
       "    <tr style=\"text-align: right;\">\n",
       "      <th></th>\n",
       "      <th>state</th>\n",
       "    </tr>\n",
       "    <tr>\n",
       "      <th>country</th>\n",
       "      <th></th>\n",
       "    </tr>\n",
       "  </thead>\n",
       "  <tbody>\n",
       "    <tr>\n",
       "      <th>AT</th>\n",
       "      <td>0.185764</td>\n",
       "    </tr>\n",
       "    <tr>\n",
       "      <th>AU</th>\n",
       "      <td>0.261685</td>\n",
       "    </tr>\n",
       "    <tr>\n",
       "      <th>BE</th>\n",
       "      <td>0.254606</td>\n",
       "    </tr>\n",
       "    <tr>\n",
       "      <th>CA</th>\n",
       "      <td>0.284946</td>\n",
       "    </tr>\n",
       "    <tr>\n",
       "      <th>CH</th>\n",
       "      <td>0.254076</td>\n",
       "    </tr>\n",
       "    <tr>\n",
       "      <th>DE</th>\n",
       "      <td>0.230959</td>\n",
       "    </tr>\n",
       "    <tr>\n",
       "      <th>DK</th>\n",
       "      <td>0.332410</td>\n",
       "    </tr>\n",
       "    <tr>\n",
       "      <th>ES</th>\n",
       "      <td>0.223230</td>\n",
       "    </tr>\n",
       "    <tr>\n",
       "      <th>FR</th>\n",
       "      <td>0.316046</td>\n",
       "    </tr>\n",
       "    <tr>\n",
       "      <th>GB</th>\n",
       "      <td>0.363300</td>\n",
       "    </tr>\n",
       "    <tr>\n",
       "      <th>HK</th>\n",
       "      <td>0.382979</td>\n",
       "    </tr>\n",
       "    <tr>\n",
       "      <th>IE</th>\n",
       "      <td>0.261034</td>\n",
       "    </tr>\n",
       "    <tr>\n",
       "      <th>IT</th>\n",
       "      <td>0.158198</td>\n",
       "    </tr>\n",
       "    <tr>\n",
       "      <th>JP</th>\n",
       "      <td>0.225806</td>\n",
       "    </tr>\n",
       "    <tr>\n",
       "      <th>LU</th>\n",
       "      <td>0.311475</td>\n",
       "    </tr>\n",
       "    <tr>\n",
       "      <th>MX</th>\n",
       "      <td>0.242647</td>\n",
       "    </tr>\n",
       "    <tr>\n",
       "      <th>N,0\"</th>\n",
       "      <td>0.452586</td>\n",
       "    </tr>\n",
       "    <tr>\n",
       "      <th>NL</th>\n",
       "      <td>0.219808</td>\n",
       "    </tr>\n",
       "    <tr>\n",
       "      <th>NO</th>\n",
       "      <td>0.233429</td>\n",
       "    </tr>\n",
       "    <tr>\n",
       "      <th>NZ</th>\n",
       "      <td>0.314386</td>\n",
       "    </tr>\n",
       "    <tr>\n",
       "      <th>SE</th>\n",
       "      <td>0.296275</td>\n",
       "    </tr>\n",
       "    <tr>\n",
       "      <th>SG</th>\n",
       "      <td>0.341651</td>\n",
       "    </tr>\n",
       "    <tr>\n",
       "      <th>US</th>\n",
       "      <td>0.377321</td>\n",
       "    </tr>\n",
       "  </tbody>\n",
       "</table>\n",
       "</div>"
      ],
      "text/plain": [
       "            state\n",
       "country          \n",
       "AT       0.185764\n",
       "AU       0.261685\n",
       "BE       0.254606\n",
       "CA       0.284946\n",
       "CH       0.254076\n",
       "DE       0.230959\n",
       "DK       0.332410\n",
       "ES       0.223230\n",
       "FR       0.316046\n",
       "GB       0.363300\n",
       "HK       0.382979\n",
       "IE       0.261034\n",
       "IT       0.158198\n",
       "JP       0.225806\n",
       "LU       0.311475\n",
       "MX       0.242647\n",
       "N,0\"     0.452586\n",
       "NL       0.219808\n",
       "NO       0.233429\n",
       "NZ       0.314386\n",
       "SE       0.296275\n",
       "SG       0.341651\n",
       "US       0.377321"
      ]
     },
     "execution_count": 17,
     "metadata": {},
     "output_type": "execute_result"
    }
   ],
   "source": [
    "df[\"state\"] = np.where((df[\"state\"] == \"successful\"),1,0)\n",
    "countryGrouped = pd.DataFrame(df[\"state\"].groupby(df[\"country\"]).mean())\n",
    "countryGrouped"
   ]
  },
  {
   "cell_type": "code",
   "execution_count": 18,
   "metadata": {},
   "outputs": [
    {
     "data": {
      "text/plain": [
       "0.36159955082142453"
      ]
     },
     "execution_count": 18,
     "metadata": {},
     "output_type": "execute_result"
    }
   ],
   "source": [
    "df.state.mean()"
   ]
  },
  {
   "cell_type": "code",
   "execution_count": 19,
   "metadata": {
    "collapsed": true
   },
   "outputs": [],
   "source": [
    "countryGrouped[\"Expected\"] = np.where((countryGrouped[\"state\"] < df.state.mean()),0,1)\n",
    "expectedCountry = (countryGrouped[\"Expected\"]).append(countryGrouped[\"Expected\"])"
   ]
  },
  {
   "cell_type": "code",
   "execution_count": 20,
   "metadata": {
    "collapsed": true
   },
   "outputs": [],
   "source": [
    "countrytest = df[[\"country\",\"state\"]]\n",
    "y = pd.DataFrame(countrytest.groupby([countrytest.state,countrytest.country]).size())\n",
    "y[\"Expected\"] = expectedCountry.values\n",
    "\n",
    "y = y.reset_index(level=[\"state\",\"country\"])\n",
    "y = y.drop(\"country\",axis=1)"
   ]
  },
  {
   "cell_type": "markdown",
   "metadata": {},
   "source": [
    "### State and Country"
   ]
  },
  {
   "cell_type": "code",
   "execution_count": 21,
   "metadata": {},
   "outputs": [
    {
     "data": {
      "text/html": [
       "<div>\n",
       "<style>\n",
       "    .dataframe thead tr:only-child th {\n",
       "        text-align: right;\n",
       "    }\n",
       "\n",
       "    .dataframe thead th {\n",
       "        text-align: left;\n",
       "    }\n",
       "\n",
       "    .dataframe tbody tr th {\n",
       "        vertical-align: top;\n",
       "    }\n",
       "</style>\n",
       "<table border=\"1\" class=\"dataframe\">\n",
       "  <thead>\n",
       "    <tr style=\"text-align: right;\">\n",
       "      <th></th>\n",
       "      <th></th>\n",
       "      <th>0</th>\n",
       "    </tr>\n",
       "    <tr>\n",
       "      <th>state</th>\n",
       "      <th>Expected</th>\n",
       "      <th></th>\n",
       "    </tr>\n",
       "  </thead>\n",
       "  <tbody>\n",
       "    <tr>\n",
       "      <th rowspan=\"2\" valign=\"top\">0</th>\n",
       "      <th>0</th>\n",
       "      <td>34503</td>\n",
       "    </tr>\n",
       "    <tr>\n",
       "      <th>1</th>\n",
       "      <td>201995</td>\n",
       "    </tr>\n",
       "    <tr>\n",
       "      <th rowspan=\"2\" valign=\"top\">1</th>\n",
       "      <th>0</th>\n",
       "      <td>12269</td>\n",
       "    </tr>\n",
       "    <tr>\n",
       "      <th>1</th>\n",
       "      <td>121687</td>\n",
       "    </tr>\n",
       "  </tbody>\n",
       "</table>\n",
       "</div>"
      ],
      "text/plain": [
       "                     0\n",
       "state Expected        \n",
       "0     0          34503\n",
       "      1         201995\n",
       "1     0          12269\n",
       "      1         121687"
      ]
     },
     "execution_count": 21,
     "metadata": {},
     "output_type": "execute_result"
    }
   ],
   "source": [
    "groupbycountry = pd.DataFrame(y.groupby([y.state,y.Expected]).sum())\n",
    "groupbycountry"
   ]
  },
  {
   "cell_type": "code",
   "execution_count": 22,
   "metadata": {},
   "outputs": [
    {
     "data": {
      "text/plain": [
       "array([[ 12269,  34503],\n",
       "       [121687, 201995]])"
      ]
     },
     "execution_count": 22,
     "metadata": {},
     "output_type": "execute_result"
    }
   ],
   "source": [
    "arr = np.array([[groupbycountry[0][1][0],groupbycountry[0][0][0]],[groupbycountry[0][1][1],groupbycountry[0][0][1]]])\n",
    "arr"
   ]
  },
  {
   "cell_type": "code",
   "execution_count": 23,
   "metadata": {},
   "outputs": [
    {
     "name": "stdout",
     "output_type": "stream",
     "text": [
      "Test t=2285.335205 p-value=0.000000\n"
     ]
    }
   ],
   "source": [
    "chi_stats = stats.chi2_contingency(arr)\n",
    "\n",
    "#(t,p)= stats.chisquare([chitest[\"state\"],chitest[\"goalClf\"]],ddof=5)\n",
    "print(\"Test t=%f p-value=%f\" % (chi_stats[0],chi_stats[1]))"
   ]
  },
  {
   "cell_type": "code",
   "execution_count": 24,
   "metadata": {
    "collapsed": true
   },
   "outputs": [],
   "source": [
    "alpha = 0.05  # significance level "
   ]
  },
  {
   "cell_type": "code",
   "execution_count": 25,
   "metadata": {},
   "outputs": [
    {
     "data": {
      "text/plain": [
       "3.8414588206941236"
      ]
     },
     "execution_count": 25,
     "metadata": {},
     "output_type": "execute_result"
    }
   ],
   "source": [
    "critical_value = crit = stats.chi2.ppf(q = 1 - alpha, # Find the critical value for 95% confidence*\n",
    "                      df = chi_stats[2]) #degree of freedom\n",
    "critical_value"
   ]
  },
  {
   "cell_type": "code",
   "execution_count": 26,
   "metadata": {},
   "outputs": [
    {
     "data": {
      "text/plain": [
       "<matplotlib.collections.PolyCollection at 0x81589ee50>"
      ]
     },
     "execution_count": 26,
     "metadata": {},
     "output_type": "execute_result"
    },
    {
     "data": {
      "image/png": "[encoded data removed]",
      "text/plain": [
       "<matplotlib.figure.Figure at 0x817b0e350>"
      ]
     },
     "metadata": {},
     "output_type": "display_data"
    }
   ],
   "source": [
    "x = np.linspace(0, 10, 40)\n",
    "plt.plot(x, stats.chi2.pdf(x, chi_stats[2]))\n",
    "plt.axvline(x=critical_value, ymin=0.05,ymax=0.05, c='r')\n",
    "plt.annotate('Critical Value = {0:.2f}'.format(critical_value), xy=(critical_value, 0.02), xytext=(critical_value, 0.04), \n",
    "            arrowprops=dict(facecolor='black', shrink=0.5), verticalalignment='top' )\n",
    "plt.fill_between(x, stats.chi2.pdf(x, chi_stats[2]), where= x > critical_value, facecolor='red', interpolate=True)"
   ]
  },
  {
   "cell_type": "markdown",
   "metadata": {},
   "source": [
    "## Result"
   ]
  },
  {
   "cell_type": "markdown",
   "metadata": {},
   "source": [
    "### According to shown attributes we can suggest that country does not have a strong affect on state"
   ]
  },
  {
   "cell_type": "markdown",
   "metadata": {},
   "source": [
    "#     \n",
    "#   \n",
    "# Test 2: Category and state\n",
    "#   \n",
    "#### Null Hypothesis: Success rate changes depend on the category\n",
    "#### Alternative Hypothesis: Success rate changes does not depend on the category"
   ]
  },
  {
   "cell_type": "code",
   "execution_count": 27,
   "metadata": {},
   "outputs": [
    {
     "data": {
      "text/plain": [
       "<matplotlib.axes._subplots.AxesSubplot at 0x81933a850>"
      ]
     },
     "execution_count": 27,
     "metadata": {},
     "output_type": "execute_result"
    },
    {
     "data": {
      "image/png": "[encoded data removed]",
      "text/plain": [
       "<matplotlib.figure.Figure at 0x818345bd0>"
      ]
     },
     "metadata": {},
     "output_type": "display_data"
    }
   ],
   "source": [
    "category = df1.sort_values(by='successful',ascending=False)\n",
    "category.plot(kind=\"bar\",figsize=(16,7))"
   ]
  },
  {
   "cell_type": "markdown",
   "metadata": {},
   "source": [
    "#### Even though the number of projects in Dance category is lower than others, we can suggest that it is more successful in ratio\n",
    "#   \n",
    "#   \n",
    "## Result\n",
    "##   \n",
    "### As we can see in the above graph, category has a affect on success rate\n",
    "### So, as our null hypthosesis stated category has correlation with success rate and the graph above corrects\n",
    "### the statement.\n"
   ]
  },
  {
   "cell_type": "markdown",
   "metadata": {
    "collapsed": true
   },
   "source": [
    "#  \n",
    "#  \n",
    "# Future Engineering"
   ]
  },
  {
   "cell_type": "code",
   "execution_count": 148,
   "metadata": {},
   "outputs": [
    {
     "name": "stdout",
     "output_type": "stream",
     "text": [
      "<class 'pandas.core.frame.DataFrame'>\n",
      "RangeIndex: 378661 entries, 0 to 378660\n",
      "Data columns (total 15 columns):\n",
      "ID                  378661 non-null int64\n",
      "name                378657 non-null object\n",
      "category            378661 non-null object\n",
      "main_category       378661 non-null object\n",
      "currency            378661 non-null object\n",
      "deadline            378661 non-null object\n",
      "goal                378661 non-null float64\n",
      "launched            378661 non-null object\n",
      "pledged             378661 non-null float64\n",
      "state               378661 non-null object\n",
      "backers             378661 non-null int64\n",
      "country             378661 non-null object\n",
      "usd pledged         374864 non-null float64\n",
      "usd_pledged_real    378661 non-null float64\n",
      "usd_goal_real       378661 non-null float64\n",
      "dtypes: float64(5), int64(2), object(8)\n",
      "memory usage: 43.3+ MB\n"
     ]
    }
   ],
   "source": [
    "data=pd.read_csv('ks-projects-201801.csv')\n",
    "data.info()"
   ]
  },
  {
   "cell_type": "markdown",
   "metadata": {},
   "source": [
    "### Undefined, Live and Suspended state is dropped and canceled added to failed"
   ]
  },
  {
   "cell_type": "code",
   "execution_count": 149,
   "metadata": {},
   "outputs": [
    {
     "name": "stdout",
     "output_type": "stream",
     "text": [
      "<class 'pandas.core.frame.DataFrame'>\n",
      "Int64Index: 370454 entries, 0 to 378660\n",
      "Data columns (total 15 columns):\n",
      "ID                  370454 non-null int64\n",
      "name                370451 non-null object\n",
      "category            370454 non-null object\n",
      "main_category       370454 non-null object\n",
      "currency            370454 non-null object\n",
      "deadline            370454 non-null object\n",
      "goal                370454 non-null float64\n",
      "launched            370454 non-null object\n",
      "pledged             370454 non-null float64\n",
      "state               370454 non-null int64\n",
      "backers             370454 non-null int64\n",
      "country             370454 non-null object\n",
      "usd pledged         370222 non-null float64\n",
      "usd_pledged_real    370454 non-null float64\n",
      "usd_goal_real       370454 non-null float64\n",
      "dtypes: float64(5), int64(3), object(7)\n",
      "memory usage: 45.2+ MB\n"
     ]
    }
   ],
   "source": [
    "data = data.loc[(data['state'] != 'undefined') & (data['state'] != 'live') & (data['state'] != 'suspended')]\n",
    "data['state'] = data['state'].replace('canceled','failed')\n",
    "data['state'] = data['state'].replace(['failed','successful'],[0,1])\n",
    "data.info()"
   ]
  },
  {
   "cell_type": "markdown",
   "metadata": {},
   "source": [
    "### Dropping main_category, goal, pledged, backers, usd_pledged and usd_pledged_real columns"
   ]
  },
  {
   "cell_type": "code",
   "execution_count": 150,
   "metadata": {},
   "outputs": [
    {
     "name": "stdout",
     "output_type": "stream",
     "text": [
      "<class 'pandas.core.frame.DataFrame'>\n",
      "Int64Index: 370454 entries, 0 to 378660\n",
      "Data columns (total 9 columns):\n",
      "ID               370454 non-null int64\n",
      "state            370454 non-null int64\n",
      "name             370451 non-null object\n",
      "category         370454 non-null object\n",
      "currency         370454 non-null object\n",
      "deadline         370454 non-null object\n",
      "launched         370454 non-null object\n",
      "country          370454 non-null object\n",
      "usd_goal_real    370454 non-null float64\n",
      "dtypes: float64(1), int64(2), object(6)\n",
      "memory usage: 28.3+ MB\n"
     ]
    }
   ],
   "source": [
    "data = data[[\"ID\",\"state\",\"name\",\"category\",\"currency\",\"deadline\",\"launched\",\"country\",\"usd_goal_real\"]]\n",
    "data.info()"
   ]
  },
  {
   "cell_type": "markdown",
   "metadata": {},
   "source": [
    "### Name Length and most used common words analysis"
   ]
  },
  {
   "cell_type": "code",
   "execution_count": 151,
   "metadata": {},
   "outputs": [
    {
     "name": "stdout",
     "output_type": "stream",
     "text": [
      "<class 'pandas.core.frame.DataFrame'>\n",
      "Int64Index: 370451 entries, 0 to 378660\n",
      "Data columns (total 9 columns):\n",
      "ID               370451 non-null int64\n",
      "state            370451 non-null int64\n",
      "name             370451 non-null object\n",
      "category         370451 non-null object\n",
      "currency         370451 non-null object\n",
      "deadline         370451 non-null object\n",
      "launched         370451 non-null object\n",
      "country          370451 non-null object\n",
      "usd_goal_real    370451 non-null float64\n",
      "dtypes: float64(1), int64(2), object(6)\n",
      "memory usage: 28.3+ MB\n"
     ]
    }
   ],
   "source": [
    "data = data[data['name'].notnull()]\n",
    "data.info()"
   ]
  },
  {
   "cell_type": "code",
   "execution_count": 152,
   "metadata": {},
   "outputs": [
    {
     "name": "stdout",
     "output_type": "stream",
     "text": [
      "<class 'pandas.core.frame.DataFrame'>\n",
      "Int64Index: 370451 entries, 0 to 378660\n",
      "Data columns (total 9 columns):\n",
      "ID               370451 non-null int64\n",
      "state            370451 non-null int64\n",
      "category         370451 non-null object\n",
      "currency         370451 non-null object\n",
      "deadline         370451 non-null object\n",
      "launched         370451 non-null object\n",
      "country          370451 non-null object\n",
      "usd_goal_real    370451 non-null float64\n",
      "nameLen          370451 non-null int64\n",
      "dtypes: float64(1), int64(3), object(5)\n",
      "memory usage: 28.3+ MB\n"
     ]
    }
   ],
   "source": [
    "data['nameLen'] = data['name'].map(lambda n: len(n))\n",
    "data = data.dropna()\n",
    "data.drop(['name'], axis=1, inplace=True)\n",
    "data.info()"
   ]
  },
  {
   "cell_type": "markdown",
   "metadata": {},
   "source": [
    "### Category and Currency Categorized"
   ]
  },
  {
   "cell_type": "code",
   "execution_count": 153,
   "metadata": {},
   "outputs": [
    {
     "data": {
      "text/plain": [
       "Index([u'category', u'currency'], dtype='object')"
      ]
     },
     "execution_count": 153,
     "metadata": {},
     "output_type": "execute_result"
    }
   ],
   "source": [
    "data['category'] = data['category'].astype('category')\n",
    "data['currency'] = data['currency'].astype('category')\n",
    "\n",
    "cat_columns = data.select_dtypes(['category']).columns\n",
    "cat_columns"
   ]
  },
  {
   "cell_type": "code",
   "execution_count": 154,
   "metadata": {},
   "outputs": [
    {
     "data": {
      "text/html": [
       "<div>\n",
       "<style>\n",
       "    .dataframe thead tr:only-child th {\n",
       "        text-align: right;\n",
       "    }\n",
       "\n",
       "    .dataframe thead th {\n",
       "        text-align: left;\n",
       "    }\n",
       "\n",
       "    .dataframe tbody tr th {\n",
       "        vertical-align: top;\n",
       "    }\n",
       "</style>\n",
       "<table border=\"1\" class=\"dataframe\">\n",
       "  <thead>\n",
       "    <tr style=\"text-align: right;\">\n",
       "      <th></th>\n",
       "      <th>ID</th>\n",
       "      <th>state</th>\n",
       "      <th>category</th>\n",
       "      <th>currency</th>\n",
       "      <th>deadline</th>\n",
       "      <th>launched</th>\n",
       "      <th>country</th>\n",
       "      <th>usd_goal_real</th>\n",
       "      <th>nameLen</th>\n",
       "    </tr>\n",
       "  </thead>\n",
       "  <tbody>\n",
       "    <tr>\n",
       "      <th>0</th>\n",
       "      <td>1000002330</td>\n",
       "      <td>0</td>\n",
       "      <td>108</td>\n",
       "      <td>5</td>\n",
       "      <td>2015-10-09</td>\n",
       "      <td>2015-08-11 12:12:28</td>\n",
       "      <td>GB</td>\n",
       "      <td>1533.95</td>\n",
       "      <td>31</td>\n",
       "    </tr>\n",
       "    <tr>\n",
       "      <th>1</th>\n",
       "      <td>1000003930</td>\n",
       "      <td>0</td>\n",
       "      <td>93</td>\n",
       "      <td>13</td>\n",
       "      <td>2017-11-01</td>\n",
       "      <td>2017-09-02 04:43:57</td>\n",
       "      <td>US</td>\n",
       "      <td>30000.00</td>\n",
       "      <td>45</td>\n",
       "    </tr>\n",
       "    <tr>\n",
       "      <th>2</th>\n",
       "      <td>1000004038</td>\n",
       "      <td>0</td>\n",
       "      <td>93</td>\n",
       "      <td>13</td>\n",
       "      <td>2013-02-26</td>\n",
       "      <td>2013-01-12 00:20:50</td>\n",
       "      <td>US</td>\n",
       "      <td>45000.00</td>\n",
       "      <td>14</td>\n",
       "    </tr>\n",
       "    <tr>\n",
       "      <th>3</th>\n",
       "      <td>1000007540</td>\n",
       "      <td>0</td>\n",
       "      <td>90</td>\n",
       "      <td>13</td>\n",
       "      <td>2012-04-16</td>\n",
       "      <td>2012-03-17 03:24:11</td>\n",
       "      <td>US</td>\n",
       "      <td>5000.00</td>\n",
       "      <td>49</td>\n",
       "    </tr>\n",
       "    <tr>\n",
       "      <th>4</th>\n",
       "      <td>1000011046</td>\n",
       "      <td>0</td>\n",
       "      <td>55</td>\n",
       "      <td>13</td>\n",
       "      <td>2015-08-29</td>\n",
       "      <td>2015-07-04 08:35:03</td>\n",
       "      <td>US</td>\n",
       "      <td>19500.00</td>\n",
       "      <td>58</td>\n",
       "    </tr>\n",
       "    <tr>\n",
       "      <th>5</th>\n",
       "      <td>1000014025</td>\n",
       "      <td>1</td>\n",
       "      <td>123</td>\n",
       "      <td>13</td>\n",
       "      <td>2016-04-01</td>\n",
       "      <td>2016-02-26 13:38:27</td>\n",
       "      <td>US</td>\n",
       "      <td>50000.00</td>\n",
       "      <td>20</td>\n",
       "    </tr>\n",
       "    <tr>\n",
       "      <th>6</th>\n",
       "      <td>1000023410</td>\n",
       "      <td>1</td>\n",
       "      <td>58</td>\n",
       "      <td>13</td>\n",
       "      <td>2014-12-21</td>\n",
       "      <td>2014-12-01 18:30:44</td>\n",
       "      <td>US</td>\n",
       "      <td>1000.00</td>\n",
       "      <td>60</td>\n",
       "    </tr>\n",
       "    <tr>\n",
       "      <th>7</th>\n",
       "      <td>1000030581</td>\n",
       "      <td>0</td>\n",
       "      <td>41</td>\n",
       "      <td>13</td>\n",
       "      <td>2016-03-17</td>\n",
       "      <td>2016-02-01 20:05:12</td>\n",
       "      <td>US</td>\n",
       "      <td>25000.00</td>\n",
       "      <td>49</td>\n",
       "    </tr>\n",
       "    <tr>\n",
       "      <th>8</th>\n",
       "      <td>1000034518</td>\n",
       "      <td>0</td>\n",
       "      <td>113</td>\n",
       "      <td>13</td>\n",
       "      <td>2014-05-29</td>\n",
       "      <td>2014-04-24 18:14:43</td>\n",
       "      <td>US</td>\n",
       "      <td>125000.00</td>\n",
       "      <td>53</td>\n",
       "    </tr>\n",
       "    <tr>\n",
       "      <th>9</th>\n",
       "      <td>100004195</td>\n",
       "      <td>0</td>\n",
       "      <td>39</td>\n",
       "      <td>13</td>\n",
       "      <td>2014-08-10</td>\n",
       "      <td>2014-07-11 21:55:48</td>\n",
       "      <td>US</td>\n",
       "      <td>65000.00</td>\n",
       "      <td>57</td>\n",
       "    </tr>\n",
       "    <tr>\n",
       "      <th>10</th>\n",
       "      <td>100004721</td>\n",
       "      <td>0</td>\n",
       "      <td>95</td>\n",
       "      <td>1</td>\n",
       "      <td>2013-10-09</td>\n",
       "      <td>2013-09-09 18:19:37</td>\n",
       "      <td>CA</td>\n",
       "      <td>2406.39</td>\n",
       "      <td>19</td>\n",
       "    </tr>\n",
       "    <tr>\n",
       "      <th>11</th>\n",
       "      <td>100005484</td>\n",
       "      <td>1</td>\n",
       "      <td>72</td>\n",
       "      <td>13</td>\n",
       "      <td>2013-04-08</td>\n",
       "      <td>2013-03-09 06:42:58</td>\n",
       "      <td>US</td>\n",
       "      <td>12500.00</td>\n",
       "      <td>16</td>\n",
       "    </tr>\n",
       "    <tr>\n",
       "      <th>12</th>\n",
       "      <td>1000055792</td>\n",
       "      <td>0</td>\n",
       "      <td>32</td>\n",
       "      <td>13</td>\n",
       "      <td>2014-10-02</td>\n",
       "      <td>2014-09-02 17:11:50</td>\n",
       "      <td>US</td>\n",
       "      <td>5000.00</td>\n",
       "      <td>18</td>\n",
       "    </tr>\n",
       "    <tr>\n",
       "      <th>13</th>\n",
       "      <td>1000056157</td>\n",
       "      <td>0</td>\n",
       "      <td>62</td>\n",
       "      <td>13</td>\n",
       "      <td>2016-03-25</td>\n",
       "      <td>2016-02-09 23:01:12</td>\n",
       "      <td>US</td>\n",
       "      <td>200000.00</td>\n",
       "      <td>59</td>\n",
       "    </tr>\n",
       "    <tr>\n",
       "      <th>14</th>\n",
       "      <td>1000057089</td>\n",
       "      <td>1</td>\n",
       "      <td>136</td>\n",
       "      <td>5</td>\n",
       "      <td>2017-05-03</td>\n",
       "      <td>2017-04-05 19:44:18</td>\n",
       "      <td>GB</td>\n",
       "      <td>6469.73</td>\n",
       "      <td>57</td>\n",
       "    </tr>\n",
       "    <tr>\n",
       "      <th>15</th>\n",
       "      <td>1000064368</td>\n",
       "      <td>0</td>\n",
       "      <td>37</td>\n",
       "      <td>13</td>\n",
       "      <td>2015-02-28</td>\n",
       "      <td>2015-01-29 02:10:53</td>\n",
       "      <td>US</td>\n",
       "      <td>2500.00</td>\n",
       "      <td>14</td>\n",
       "    </tr>\n",
       "    <tr>\n",
       "      <th>16</th>\n",
       "      <td>1000064918</td>\n",
       "      <td>0</td>\n",
       "      <td>25</td>\n",
       "      <td>13</td>\n",
       "      <td>2014-11-08</td>\n",
       "      <td>2014-10-09 22:27:52</td>\n",
       "      <td>US</td>\n",
       "      <td>1500.00</td>\n",
       "      <td>9</td>\n",
       "    </tr>\n",
       "    <tr>\n",
       "      <th>17</th>\n",
       "      <td>1000068480</td>\n",
       "      <td>0</td>\n",
       "      <td>11</td>\n",
       "      <td>13</td>\n",
       "      <td>2015-05-10</td>\n",
       "      <td>2015-04-10 21:20:54</td>\n",
       "      <td>US</td>\n",
       "      <td>3000.00</td>\n",
       "      <td>32</td>\n",
       "    </tr>\n",
       "    <tr>\n",
       "      <th>18</th>\n",
       "      <td>1000070642</td>\n",
       "      <td>1</td>\n",
       "      <td>90</td>\n",
       "      <td>13</td>\n",
       "      <td>2012-08-17</td>\n",
       "      <td>2012-08-02 14:11:32</td>\n",
       "      <td>US</td>\n",
       "      <td>250.00</td>\n",
       "      <td>35</td>\n",
       "    </tr>\n",
       "    <tr>\n",
       "      <th>19</th>\n",
       "      <td>1000071625</td>\n",
       "      <td>0</td>\n",
       "      <td>58</td>\n",
       "      <td>13</td>\n",
       "      <td>2012-06-02</td>\n",
       "      <td>2012-05-03 17:24:32</td>\n",
       "      <td>US</td>\n",
       "      <td>5000.00</td>\n",
       "      <td>8</td>\n",
       "    </tr>\n",
       "    <tr>\n",
       "      <th>20</th>\n",
       "      <td>1000072011</td>\n",
       "      <td>1</td>\n",
       "      <td>52</td>\n",
       "      <td>13</td>\n",
       "      <td>2013-12-30</td>\n",
       "      <td>2013-11-25 07:06:11</td>\n",
       "      <td>US</td>\n",
       "      <td>20000.00</td>\n",
       "      <td>37</td>\n",
       "    </tr>\n",
       "    <tr>\n",
       "      <th>21</th>\n",
       "      <td>1000081649</td>\n",
       "      <td>0</td>\n",
       "      <td>20</td>\n",
       "      <td>0</td>\n",
       "      <td>2017-09-07</td>\n",
       "      <td>2017-08-08 01:20:20</td>\n",
       "      <td>AU</td>\n",
       "      <td>2026.10</td>\n",
       "      <td>32</td>\n",
       "    </tr>\n",
       "    <tr>\n",
       "      <th>22</th>\n",
       "      <td>1000082254</td>\n",
       "      <td>0</td>\n",
       "      <td>141</td>\n",
       "      <td>13</td>\n",
       "      <td>2014-06-15</td>\n",
       "      <td>2014-05-16 10:10:38</td>\n",
       "      <td>US</td>\n",
       "      <td>3500.00</td>\n",
       "      <td>30</td>\n",
       "    </tr>\n",
       "    <tr>\n",
       "      <th>23</th>\n",
       "      <td>1000087442</td>\n",
       "      <td>0</td>\n",
       "      <td>41</td>\n",
       "      <td>9</td>\n",
       "      <td>2015-02-25</td>\n",
       "      <td>2015-01-26 19:17:33</td>\n",
       "      <td>NO</td>\n",
       "      <td>65.55</td>\n",
       "      <td>49</td>\n",
       "    </tr>\n",
       "    <tr>\n",
       "      <th>24</th>\n",
       "      <td>1000091520</td>\n",
       "      <td>1</td>\n",
       "      <td>26</td>\n",
       "      <td>13</td>\n",
       "      <td>2014-11-12</td>\n",
       "      <td>2014-10-23 17:15:50</td>\n",
       "      <td>US</td>\n",
       "      <td>175.00</td>\n",
       "      <td>27</td>\n",
       "    </tr>\n",
       "    <tr>\n",
       "      <th>25</th>\n",
       "      <td>1000102741</td>\n",
       "      <td>1</td>\n",
       "      <td>90</td>\n",
       "      <td>13</td>\n",
       "      <td>2011-01-06</td>\n",
       "      <td>2010-12-07 23:16:50</td>\n",
       "      <td>US</td>\n",
       "      <td>10000.00</td>\n",
       "      <td>52</td>\n",
       "    </tr>\n",
       "    <tr>\n",
       "      <th>26</th>\n",
       "      <td>1000103948</td>\n",
       "      <td>0</td>\n",
       "      <td>34</td>\n",
       "      <td>5</td>\n",
       "      <td>2016-01-05</td>\n",
       "      <td>2015-12-06 20:09:06</td>\n",
       "      <td>GB</td>\n",
       "      <td>17489.65</td>\n",
       "      <td>20</td>\n",
       "    </tr>\n",
       "    <tr>\n",
       "      <th>27</th>\n",
       "      <td>1000104688</td>\n",
       "      <td>1</td>\n",
       "      <td>153</td>\n",
       "      <td>1</td>\n",
       "      <td>2014-12-14</td>\n",
       "      <td>2014-11-14 18:02:00</td>\n",
       "      <td>CA</td>\n",
       "      <td>15313.04</td>\n",
       "      <td>19</td>\n",
       "    </tr>\n",
       "    <tr>\n",
       "      <th>28</th>\n",
       "      <td>1000104953</td>\n",
       "      <td>1</td>\n",
       "      <td>26</td>\n",
       "      <td>5</td>\n",
       "      <td>2016-01-28</td>\n",
       "      <td>2015-12-29 16:59:29</td>\n",
       "      <td>GB</td>\n",
       "      <td>142.91</td>\n",
       "      <td>52</td>\n",
       "    </tr>\n",
       "    <tr>\n",
       "      <th>29</th>\n",
       "      <td>100011318</td>\n",
       "      <td>1</td>\n",
       "      <td>5</td>\n",
       "      <td>13</td>\n",
       "      <td>2017-05-03</td>\n",
       "      <td>2017-04-03 17:11:33</td>\n",
       "      <td>US</td>\n",
       "      <td>50000.00</td>\n",
       "      <td>29</td>\n",
       "    </tr>\n",
       "    <tr>\n",
       "      <th>...</th>\n",
       "      <td>...</td>\n",
       "      <td>...</td>\n",
       "      <td>...</td>\n",
       "      <td>...</td>\n",
       "      <td>...</td>\n",
       "      <td>...</td>\n",
       "      <td>...</td>\n",
       "      <td>...</td>\n",
       "      <td>...</td>\n",
       "    </tr>\n",
       "    <tr>\n",
       "      <th>378631</th>\n",
       "      <td>999832803</td>\n",
       "      <td>1</td>\n",
       "      <td>106</td>\n",
       "      <td>13</td>\n",
       "      <td>2014-10-03</td>\n",
       "      <td>2014-09-03 19:53:50</td>\n",
       "      <td>US</td>\n",
       "      <td>10000.00</td>\n",
       "      <td>58</td>\n",
       "    </tr>\n",
       "    <tr>\n",
       "      <th>378632</th>\n",
       "      <td>99984851</td>\n",
       "      <td>0</td>\n",
       "      <td>24</td>\n",
       "      <td>13</td>\n",
       "      <td>2014-06-05</td>\n",
       "      <td>2014-05-06 23:50:34</td>\n",
       "      <td>US</td>\n",
       "      <td>12000.00</td>\n",
       "      <td>8</td>\n",
       "    </tr>\n",
       "    <tr>\n",
       "      <th>378633</th>\n",
       "      <td>999865831</td>\n",
       "      <td>0</td>\n",
       "      <td>7</td>\n",
       "      <td>13</td>\n",
       "      <td>2014-12-13</td>\n",
       "      <td>2014-11-13 17:16:17</td>\n",
       "      <td>US</td>\n",
       "      <td>25000.00</td>\n",
       "      <td>51</td>\n",
       "    </tr>\n",
       "    <tr>\n",
       "      <th>378634</th>\n",
       "      <td>999867839</td>\n",
       "      <td>0</td>\n",
       "      <td>104</td>\n",
       "      <td>13</td>\n",
       "      <td>2011-01-08</td>\n",
       "      <td>2010-11-08 02:43:59</td>\n",
       "      <td>US</td>\n",
       "      <td>4000.00</td>\n",
       "      <td>13</td>\n",
       "    </tr>\n",
       "    <tr>\n",
       "      <th>378635</th>\n",
       "      <td>99987261</td>\n",
       "      <td>0</td>\n",
       "      <td>95</td>\n",
       "      <td>13</td>\n",
       "      <td>2015-09-24</td>\n",
       "      <td>2015-08-25 22:37:14</td>\n",
       "      <td>US</td>\n",
       "      <td>800.00</td>\n",
       "      <td>56</td>\n",
       "    </tr>\n",
       "    <tr>\n",
       "      <th>378636</th>\n",
       "      <td>999877902</td>\n",
       "      <td>1</td>\n",
       "      <td>30</td>\n",
       "      <td>1</td>\n",
       "      <td>2014-12-17</td>\n",
       "      <td>2014-11-17 17:50:12</td>\n",
       "      <td>CA</td>\n",
       "      <td>4311.83</td>\n",
       "      <td>29</td>\n",
       "    </tr>\n",
       "    <tr>\n",
       "      <th>378637</th>\n",
       "      <td>999878813</td>\n",
       "      <td>1</td>\n",
       "      <td>129</td>\n",
       "      <td>13</td>\n",
       "      <td>2017-10-13</td>\n",
       "      <td>2017-08-29 06:57:28</td>\n",
       "      <td>US</td>\n",
       "      <td>10000.00</td>\n",
       "      <td>24</td>\n",
       "    </tr>\n",
       "    <tr>\n",
       "      <th>378638</th>\n",
       "      <td>999880710</td>\n",
       "      <td>0</td>\n",
       "      <td>95</td>\n",
       "      <td>13</td>\n",
       "      <td>2014-08-15</td>\n",
       "      <td>2014-07-15 02:10:39</td>\n",
       "      <td>US</td>\n",
       "      <td>5000.00</td>\n",
       "      <td>19</td>\n",
       "    </tr>\n",
       "    <tr>\n",
       "      <th>378639</th>\n",
       "      <td>999884445</td>\n",
       "      <td>1</td>\n",
       "      <td>41</td>\n",
       "      <td>13</td>\n",
       "      <td>2015-12-03</td>\n",
       "      <td>2015-11-03 13:04:14</td>\n",
       "      <td>US</td>\n",
       "      <td>5000.00</td>\n",
       "      <td>49</td>\n",
       "    </tr>\n",
       "    <tr>\n",
       "      <th>378640</th>\n",
       "      <td>999893629</td>\n",
       "      <td>0</td>\n",
       "      <td>54</td>\n",
       "      <td>13</td>\n",
       "      <td>2014-09-11</td>\n",
       "      <td>2014-08-08 21:49:31</td>\n",
       "      <td>US</td>\n",
       "      <td>1000.00</td>\n",
       "      <td>25</td>\n",
       "    </tr>\n",
       "    <tr>\n",
       "      <th>378641</th>\n",
       "      <td>99991751</td>\n",
       "      <td>0</td>\n",
       "      <td>113</td>\n",
       "      <td>2</td>\n",
       "      <td>2015-09-04</td>\n",
       "      <td>2015-07-06 18:00:47</td>\n",
       "      <td>CH</td>\n",
       "      <td>82207.27</td>\n",
       "      <td>48</td>\n",
       "    </tr>\n",
       "    <tr>\n",
       "      <th>378642</th>\n",
       "      <td>999929142</td>\n",
       "      <td>1</td>\n",
       "      <td>136</td>\n",
       "      <td>4</td>\n",
       "      <td>2017-10-31</td>\n",
       "      <td>2017-10-04 11:26:44</td>\n",
       "      <td>FR</td>\n",
       "      <td>1165.70</td>\n",
       "      <td>56</td>\n",
       "    </tr>\n",
       "    <tr>\n",
       "      <th>378643</th>\n",
       "      <td>999931480</td>\n",
       "      <td>0</td>\n",
       "      <td>0</td>\n",
       "      <td>13</td>\n",
       "      <td>2014-05-26</td>\n",
       "      <td>2014-05-05 20:22:45</td>\n",
       "      <td>US</td>\n",
       "      <td>6500.00</td>\n",
       "      <td>30</td>\n",
       "    </tr>\n",
       "    <tr>\n",
       "      <th>378644</th>\n",
       "      <td>999934908</td>\n",
       "      <td>1</td>\n",
       "      <td>113</td>\n",
       "      <td>13</td>\n",
       "      <td>2015-12-15</td>\n",
       "      <td>2015-11-23 07:33:14</td>\n",
       "      <td>US</td>\n",
       "      <td>3500.00</td>\n",
       "      <td>20</td>\n",
       "    </tr>\n",
       "    <tr>\n",
       "      <th>378645</th>\n",
       "      <td>999941823</td>\n",
       "      <td>0</td>\n",
       "      <td>26</td>\n",
       "      <td>5</td>\n",
       "      <td>2013-10-10</td>\n",
       "      <td>2013-09-10 22:45:26</td>\n",
       "      <td>GB</td>\n",
       "      <td>25566.05</td>\n",
       "      <td>43</td>\n",
       "    </tr>\n",
       "    <tr>\n",
       "      <th>378646</th>\n",
       "      <td>999943841</td>\n",
       "      <td>1</td>\n",
       "      <td>19</td>\n",
       "      <td>13</td>\n",
       "      <td>2013-11-30</td>\n",
       "      <td>2013-10-18 21:35:04</td>\n",
       "      <td>US</td>\n",
       "      <td>950.00</td>\n",
       "      <td>19</td>\n",
       "    </tr>\n",
       "    <tr>\n",
       "      <th>378647</th>\n",
       "      <td>999950812</td>\n",
       "      <td>0</td>\n",
       "      <td>95</td>\n",
       "      <td>13</td>\n",
       "      <td>2012-09-14</td>\n",
       "      <td>2012-08-15 17:11:00</td>\n",
       "      <td>US</td>\n",
       "      <td>4999.00</td>\n",
       "      <td>21</td>\n",
       "    </tr>\n",
       "    <tr>\n",
       "      <th>378648</th>\n",
       "      <td>999955533</td>\n",
       "      <td>0</td>\n",
       "      <td>136</td>\n",
       "      <td>13</td>\n",
       "      <td>2016-02-23</td>\n",
       "      <td>2016-01-24 16:03:27</td>\n",
       "      <td>US</td>\n",
       "      <td>500.00</td>\n",
       "      <td>43</td>\n",
       "    </tr>\n",
       "    <tr>\n",
       "      <th>378649</th>\n",
       "      <td>999963618</td>\n",
       "      <td>0</td>\n",
       "      <td>93</td>\n",
       "      <td>13</td>\n",
       "      <td>2017-04-09</td>\n",
       "      <td>2017-02-08 02:28:44</td>\n",
       "      <td>US</td>\n",
       "      <td>500.00</td>\n",
       "      <td>45</td>\n",
       "    </tr>\n",
       "    <tr>\n",
       "      <th>378650</th>\n",
       "      <td>99996661</td>\n",
       "      <td>0</td>\n",
       "      <td>8</td>\n",
       "      <td>13</td>\n",
       "      <td>2016-09-05</td>\n",
       "      <td>2016-07-29 15:36:29</td>\n",
       "      <td>US</td>\n",
       "      <td>6000.00</td>\n",
       "      <td>26</td>\n",
       "    </tr>\n",
       "    <tr>\n",
       "      <th>378651</th>\n",
       "      <td>999969812</td>\n",
       "      <td>1</td>\n",
       "      <td>23</td>\n",
       "      <td>1</td>\n",
       "      <td>2014-03-22</td>\n",
       "      <td>2014-02-20 01:00:16</td>\n",
       "      <td>CA</td>\n",
       "      <td>4529.81</td>\n",
       "      <td>12</td>\n",
       "    </tr>\n",
       "    <tr>\n",
       "      <th>378652</th>\n",
       "      <td>999971898</td>\n",
       "      <td>1</td>\n",
       "      <td>39</td>\n",
       "      <td>9</td>\n",
       "      <td>2015-04-28</td>\n",
       "      <td>2015-03-29 21:30:33</td>\n",
       "      <td>NO</td>\n",
       "      <td>2675.19</td>\n",
       "      <td>27</td>\n",
       "    </tr>\n",
       "    <tr>\n",
       "      <th>378653</th>\n",
       "      <td>999972264</td>\n",
       "      <td>0</td>\n",
       "      <td>39</td>\n",
       "      <td>13</td>\n",
       "      <td>2012-03-16</td>\n",
       "      <td>2012-02-15 04:31:10</td>\n",
       "      <td>US</td>\n",
       "      <td>1700.00</td>\n",
       "      <td>7</td>\n",
       "    </tr>\n",
       "    <tr>\n",
       "      <th>378654</th>\n",
       "      <td>999975836</td>\n",
       "      <td>0</td>\n",
       "      <td>130</td>\n",
       "      <td>13</td>\n",
       "      <td>2017-04-19</td>\n",
       "      <td>2017-03-20 22:08:22</td>\n",
       "      <td>US</td>\n",
       "      <td>6500.00</td>\n",
       "      <td>37</td>\n",
       "    </tr>\n",
       "    <tr>\n",
       "      <th>378655</th>\n",
       "      <td>999976312</td>\n",
       "      <td>0</td>\n",
       "      <td>108</td>\n",
       "      <td>1</td>\n",
       "      <td>2014-09-20</td>\n",
       "      <td>2014-08-06 03:46:07</td>\n",
       "      <td>CA</td>\n",
       "      <td>4949.60</td>\n",
       "      <td>26</td>\n",
       "    </tr>\n",
       "    <tr>\n",
       "      <th>378656</th>\n",
       "      <td>999976400</td>\n",
       "      <td>0</td>\n",
       "      <td>39</td>\n",
       "      <td>13</td>\n",
       "      <td>2014-10-17</td>\n",
       "      <td>2014-09-17 02:35:30</td>\n",
       "      <td>US</td>\n",
       "      <td>50000.00</td>\n",
       "      <td>49</td>\n",
       "    </tr>\n",
       "    <tr>\n",
       "      <th>378657</th>\n",
       "      <td>999977640</td>\n",
       "      <td>0</td>\n",
       "      <td>93</td>\n",
       "      <td>13</td>\n",
       "      <td>2011-07-19</td>\n",
       "      <td>2011-06-22 03:35:14</td>\n",
       "      <td>US</td>\n",
       "      <td>1500.00</td>\n",
       "      <td>9</td>\n",
       "    </tr>\n",
       "    <tr>\n",
       "      <th>378658</th>\n",
       "      <td>999986353</td>\n",
       "      <td>0</td>\n",
       "      <td>93</td>\n",
       "      <td>13</td>\n",
       "      <td>2010-08-16</td>\n",
       "      <td>2010-07-01 19:40:30</td>\n",
       "      <td>US</td>\n",
       "      <td>15000.00</td>\n",
       "      <td>71</td>\n",
       "    </tr>\n",
       "    <tr>\n",
       "      <th>378659</th>\n",
       "      <td>999987933</td>\n",
       "      <td>0</td>\n",
       "      <td>138</td>\n",
       "      <td>13</td>\n",
       "      <td>2016-02-13</td>\n",
       "      <td>2016-01-13 18:13:53</td>\n",
       "      <td>US</td>\n",
       "      <td>15000.00</td>\n",
       "      <td>24</td>\n",
       "    </tr>\n",
       "    <tr>\n",
       "      <th>378660</th>\n",
       "      <td>999988282</td>\n",
       "      <td>0</td>\n",
       "      <td>98</td>\n",
       "      <td>13</td>\n",
       "      <td>2011-08-16</td>\n",
       "      <td>2011-07-19 09:07:47</td>\n",
       "      <td>US</td>\n",
       "      <td>2000.00</td>\n",
       "      <td>33</td>\n",
       "    </tr>\n",
       "  </tbody>\n",
       "</table>\n",
       "<p>370451 rows × 9 columns</p>\n",
       "</div>"
      ],
      "text/plain": [
       "                ID  state  category  currency    deadline  \\\n",
       "0       1000002330      0       108         5  2015-10-09   \n",
       "1       1000003930      0        93        13  2017-11-01   \n",
       "2       1000004038      0        93        13  2013-02-26   \n",
       "3       1000007540      0        90        13  2012-04-16   \n",
       "4       1000011046      0        55        13  2015-08-29   \n",
       "5       1000014025      1       123        13  2016-04-01   \n",
       "6       1000023410      1        58        13  2014-12-21   \n",
       "7       1000030581      0        41        13  2016-03-17   \n",
       "8       1000034518      0       113        13  2014-05-29   \n",
       "9        100004195      0        39        13  2014-08-10   \n",
       "10       100004721      0        95         1  2013-10-09   \n",
       "11       100005484      1        72        13  2013-04-08   \n",
       "12      1000055792      0        32        13  2014-10-02   \n",
       "13      1000056157      0        62        13  2016-03-25   \n",
       "14      1000057089      1       136         5  2017-05-03   \n",
       "15      1000064368      0        37        13  2015-02-28   \n",
       "16      1000064918      0        25        13  2014-11-08   \n",
       "17      1000068480      0        11        13  2015-05-10   \n",
       "18      1000070642      1        90        13  2012-08-17   \n",
       "19      1000071625      0        58        13  2012-06-02   \n",
       "20      1000072011      1        52        13  2013-12-30   \n",
       "21      1000081649      0        20         0  2017-09-07   \n",
       "22      1000082254      0       141        13  2014-06-15   \n",
       "23      1000087442      0        41         9  2015-02-25   \n",
       "24      1000091520      1        26        13  2014-11-12   \n",
       "25      1000102741      1        90        13  2011-01-06   \n",
       "26      1000103948      0        34         5  2016-01-05   \n",
       "27      1000104688      1       153         1  2014-12-14   \n",
       "28      1000104953      1        26         5  2016-01-28   \n",
       "29       100011318      1         5        13  2017-05-03   \n",
       "...            ...    ...       ...       ...         ...   \n",
       "378631   999832803      1       106        13  2014-10-03   \n",
       "378632    99984851      0        24        13  2014-06-05   \n",
       "378633   999865831      0         7        13  2014-12-13   \n",
       "378634   999867839      0       104        13  2011-01-08   \n",
       "378635    99987261      0        95        13  2015-09-24   \n",
       "378636   999877902      1        30         1  2014-12-17   \n",
       "378637   999878813      1       129        13  2017-10-13   \n",
       "378638   999880710      0        95        13  2014-08-15   \n",
       "378639   999884445      1        41        13  2015-12-03   \n",
       "378640   999893629      0        54        13  2014-09-11   \n",
       "378641    99991751      0       113         2  2015-09-04   \n",
       "378642   999929142      1       136         4  2017-10-31   \n",
       "378643   999931480      0         0        13  2014-05-26   \n",
       "378644   999934908      1       113        13  2015-12-15   \n",
       "378645   999941823      0        26         5  2013-10-10   \n",
       "378646   999943841      1        19        13  2013-11-30   \n",
       "378647   999950812      0        95        13  2012-09-14   \n",
       "378648   999955533      0       136        13  2016-02-23   \n",
       "378649   999963618      0        93        13  2017-04-09   \n",
       "378650    99996661      0         8        13  2016-09-05   \n",
       "378651   999969812      1        23         1  2014-03-22   \n",
       "378652   999971898      1        39         9  2015-04-28   \n",
       "378653   999972264      0        39        13  2012-03-16   \n",
       "378654   999975836      0       130        13  2017-04-19   \n",
       "378655   999976312      0       108         1  2014-09-20   \n",
       "378656   999976400      0        39        13  2014-10-17   \n",
       "378657   999977640      0        93        13  2011-07-19   \n",
       "378658   999986353      0        93        13  2010-08-16   \n",
       "378659   999987933      0       138        13  2016-02-13   \n",
       "378660   999988282      0        98        13  2011-08-16   \n",
       "\n",
       "                   launched country  usd_goal_real  nameLen  \n",
       "0       2015-08-11 12:12:28      GB        1533.95       31  \n",
       "1       2017-09-02 04:43:57      US       30000.00       45  \n",
       "2       2013-01-12 00:20:50      US       45000.00       14  \n",
       "3       2012-03-17 03:24:11      US        5000.00       49  \n",
       "4       2015-07-04 08:35:03      US       19500.00       58  \n",
       "5       2016-02-26 13:38:27      US       50000.00       20  \n",
       "6       2014-12-01 18:30:44      US        1000.00       60  \n",
       "7       2016-02-01 20:05:12      US       25000.00       49  \n",
       "8       2014-04-24 18:14:43      US      125000.00       53  \n",
       "9       2014-07-11 21:55:48      US       65000.00       57  \n",
       "10      2013-09-09 18:19:37      CA        2406.39       19  \n",
       "11      2013-03-09 06:42:58      US       12500.00       16  \n",
       "12      2014-09-02 17:11:50      US        5000.00       18  \n",
       "13      2016-02-09 23:01:12      US      200000.00       59  \n",
       "14      2017-04-05 19:44:18      GB        6469.73       57  \n",
       "15      2015-01-29 02:10:53      US        2500.00       14  \n",
       "16      2014-10-09 22:27:52      US        1500.00        9  \n",
       "17      2015-04-10 21:20:54      US        3000.00       32  \n",
       "18      2012-08-02 14:11:32      US         250.00       35  \n",
       "19      2012-05-03 17:24:32      US        5000.00        8  \n",
       "20      2013-11-25 07:06:11      US       20000.00       37  \n",
       "21      2017-08-08 01:20:20      AU        2026.10       32  \n",
       "22      2014-05-16 10:10:38      US        3500.00       30  \n",
       "23      2015-01-26 19:17:33      NO          65.55       49  \n",
       "24      2014-10-23 17:15:50      US         175.00       27  \n",
       "25      2010-12-07 23:16:50      US       10000.00       52  \n",
       "26      2015-12-06 20:09:06      GB       17489.65       20  \n",
       "27      2014-11-14 18:02:00      CA       15313.04       19  \n",
       "28      2015-12-29 16:59:29      GB         142.91       52  \n",
       "29      2017-04-03 17:11:33      US       50000.00       29  \n",
       "...                     ...     ...            ...      ...  \n",
       "378631  2014-09-03 19:53:50      US       10000.00       58  \n",
       "378632  2014-05-06 23:50:34      US       12000.00        8  \n",
       "378633  2014-11-13 17:16:17      US       25000.00       51  \n",
       "378634  2010-11-08 02:43:59      US        4000.00       13  \n",
       "378635  2015-08-25 22:37:14      US         800.00       56  \n",
       "378636  2014-11-17 17:50:12      CA        4311.83       29  \n",
       "378637  2017-08-29 06:57:28      US       10000.00       24  \n",
       "378638  2014-07-15 02:10:39      US        5000.00       19  \n",
       "378639  2015-11-03 13:04:14      US        5000.00       49  \n",
       "378640  2014-08-08 21:49:31      US        1000.00       25  \n",
       "378641  2015-07-06 18:00:47      CH       82207.27       48  \n",
       "378642  2017-10-04 11:26:44      FR        1165.70       56  \n",
       "378643  2014-05-05 20:22:45      US        6500.00       30  \n",
       "378644  2015-11-23 07:33:14      US        3500.00       20  \n",
       "378645  2013-09-10 22:45:26      GB       25566.05       43  \n",
       "378646  2013-10-18 21:35:04      US         950.00       19  \n",
       "378647  2012-08-15 17:11:00      US        4999.00       21  \n",
       "378648  2016-01-24 16:03:27      US         500.00       43  \n",
       "378649  2017-02-08 02:28:44      US         500.00       45  \n",
       "378650  2016-07-29 15:36:29      US        6000.00       26  \n",
       "378651  2014-02-20 01:00:16      CA        4529.81       12  \n",
       "378652  2015-03-29 21:30:33      NO        2675.19       27  \n",
       "378653  2012-02-15 04:31:10      US        1700.00        7  \n",
       "378654  2017-03-20 22:08:22      US        6500.00       37  \n",
       "378655  2014-08-06 03:46:07      CA        4949.60       26  \n",
       "378656  2014-09-17 02:35:30      US       50000.00       49  \n",
       "378657  2011-06-22 03:35:14      US        1500.00        9  \n",
       "378658  2010-07-01 19:40:30      US       15000.00       71  \n",
       "378659  2016-01-13 18:13:53      US       15000.00       24  \n",
       "378660  2011-07-19 09:07:47      US        2000.00       33  \n",
       "\n",
       "[370451 rows x 9 columns]"
      ]
     },
     "execution_count": 154,
     "metadata": {},
     "output_type": "execute_result"
    }
   ],
   "source": [
    "data[cat_columns] = data[cat_columns].apply(lambda x: x.cat.codes)\n",
    "data"
   ]
  },
  {
   "cell_type": "markdown",
   "metadata": {},
   "source": [
    "### Time Interval added instead of deadline and launch"
   ]
  },
  {
   "cell_type": "code",
   "execution_count": 155,
   "metadata": {},
   "outputs": [
    {
     "data": {
      "text/html": [
       "<div>\n",
       "<style>\n",
       "    .dataframe thead tr:only-child th {\n",
       "        text-align: right;\n",
       "    }\n",
       "\n",
       "    .dataframe thead th {\n",
       "        text-align: left;\n",
       "    }\n",
       "\n",
       "    .dataframe tbody tr th {\n",
       "        vertical-align: top;\n",
       "    }\n",
       "</style>\n",
       "<table border=\"1\" class=\"dataframe\">\n",
       "  <thead>\n",
       "    <tr style=\"text-align: right;\">\n",
       "      <th></th>\n",
       "      <th>ID</th>\n",
       "      <th>state</th>\n",
       "      <th>category</th>\n",
       "      <th>currency</th>\n",
       "      <th>country</th>\n",
       "      <th>usd_goal_real</th>\n",
       "      <th>nameLen</th>\n",
       "      <th>time</th>\n",
       "    </tr>\n",
       "  </thead>\n",
       "  <tbody>\n",
       "    <tr>\n",
       "      <th>0</th>\n",
       "      <td>1000002330</td>\n",
       "      <td>0</td>\n",
       "      <td>108</td>\n",
       "      <td>5</td>\n",
       "      <td>GB</td>\n",
       "      <td>1533.95</td>\n",
       "      <td>31</td>\n",
       "      <td>58</td>\n",
       "    </tr>\n",
       "    <tr>\n",
       "      <th>1</th>\n",
       "      <td>1000003930</td>\n",
       "      <td>0</td>\n",
       "      <td>93</td>\n",
       "      <td>13</td>\n",
       "      <td>US</td>\n",
       "      <td>30000.00</td>\n",
       "      <td>45</td>\n",
       "      <td>59</td>\n",
       "    </tr>\n",
       "    <tr>\n",
       "      <th>2</th>\n",
       "      <td>1000004038</td>\n",
       "      <td>0</td>\n",
       "      <td>93</td>\n",
       "      <td>13</td>\n",
       "      <td>US</td>\n",
       "      <td>45000.00</td>\n",
       "      <td>14</td>\n",
       "      <td>44</td>\n",
       "    </tr>\n",
       "    <tr>\n",
       "      <th>3</th>\n",
       "      <td>1000007540</td>\n",
       "      <td>0</td>\n",
       "      <td>90</td>\n",
       "      <td>13</td>\n",
       "      <td>US</td>\n",
       "      <td>5000.00</td>\n",
       "      <td>49</td>\n",
       "      <td>29</td>\n",
       "    </tr>\n",
       "    <tr>\n",
       "      <th>4</th>\n",
       "      <td>1000011046</td>\n",
       "      <td>0</td>\n",
       "      <td>55</td>\n",
       "      <td>13</td>\n",
       "      <td>US</td>\n",
       "      <td>19500.00</td>\n",
       "      <td>58</td>\n",
       "      <td>55</td>\n",
       "    </tr>\n",
       "  </tbody>\n",
       "</table>\n",
       "</div>"
      ],
      "text/plain": [
       "           ID  state  category  currency country  usd_goal_real  nameLen  time\n",
       "0  1000002330      0       108         5      GB        1533.95       31    58\n",
       "1  1000003930      0        93        13      US       30000.00       45    59\n",
       "2  1000004038      0        93        13      US       45000.00       14    44\n",
       "3  1000007540      0        90        13      US        5000.00       49    29\n",
       "4  1000011046      0        55        13      US       19500.00       58    55"
      ]
     },
     "execution_count": 155,
     "metadata": {},
     "output_type": "execute_result"
    }
   ],
   "source": [
    "data['deadline'] = pd.to_datetime(data['deadline'], format='%Y-%m-%d')\n",
    "data['launched'] = pd.to_datetime(data['launched'], format='%Y-%m-%d')\n",
    "data['time'] = (data['deadline'] - data['launched']).dt.days\n",
    "data.drop(['deadline','launched'], axis=1, inplace=True)\n",
    "data.head()"
   ]
  },
  {
   "cell_type": "code",
   "execution_count": null,
   "metadata": {
    "collapsed": true
   },
   "outputs": [],
   "source": []
  }
 ],
 "metadata": {
  "kernelspec": {
   "display_name": "Python 2",
   "language": "python",
   "name": "python2"
  },
  "language_info": {
   "codemirror_mode": {
    "name": "ipython",
    "version": 2
   },
   "file_extension": ".py",
   "mimetype": "text/x-python",
   "name": "python",
   "nbconvert_exporter": "python",
   "pygments_lexer": "ipython2",
   "version": "2.7.14"
  }
 },
 "nbformat": 4,
 "nbformat_minor": 2
}
